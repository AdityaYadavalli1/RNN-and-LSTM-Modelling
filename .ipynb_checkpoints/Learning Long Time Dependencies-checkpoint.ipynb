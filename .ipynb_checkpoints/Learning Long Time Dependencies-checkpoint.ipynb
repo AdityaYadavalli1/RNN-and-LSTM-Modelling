{
 "cells": [
  {
   "cell_type": "code",
   "execution_count": 0,
   "metadata": {
    "colab": {},
    "colab_type": "code",
    "id": "y2rrYNrvYqdd"
   },
   "outputs": [],
   "source": [
    "import numpy as np \n",
    "import torch\n",
    "import torch.nn as nn\n",
    "import torch.nn.functional as F\n",
    "import os\n",
    "import torchvision\n",
    "import torchvision.transforms as transforms\n",
    "from torch.autograd import Variable\n",
    "import itertools  \n",
    "import random\n",
    "from sklearn.metrics import r2_score\n",
    "import matplotlib.pyplot as plt"
   ]
  },
  {
   "cell_type": "markdown",
   "metadata": {
    "colab_type": "text",
    "id": "XgqIgBQCJ4K2"
   },
   "source": [
    "# Learning Long Time Dependencies \n",
    "## Generate Data "
   ]
  },
  {
   "cell_type": "code",
   "execution_count": 0,
   "metadata": {
    "colab": {},
    "colab_type": "code",
    "id": "Q3RK4_uWYztq"
   },
   "outputs": [],
   "source": [
    "#question 4 generate data.\n",
    "def one_hot(num):\n",
    "  return [1 if i==num else 0 for i in range(101)] #p = 100 so p+1 dimension vector \n",
    "# two kinds of seqs. (x,a,x) and (y,a,y)\n",
    "# (x,a,x) sequence \n",
    "\n",
    "\n",
    "def seq_xax():\n",
    "  #generate x\n",
    "  p = 100\n",
    "  seq = [] \n",
    "  for i in range(100): # x \n",
    "    seq.append(one_hot(i))\n",
    "  curr = random.randint(1, p-1)\n",
    "  seq.append(one_hot(curr))\n",
    "  prev = curr\n",
    "  for i in range(p-2): # ai1,....., aip-1\n",
    "    curr = random.randint(prev, p-1)\n",
    "    seq.append(one_hot(curr))\n",
    "    prev = curr\n",
    "  for i in range(100): # x \n",
    "    seq.append(one_hot(i))\n",
    "  return seq\n",
    "def seq_yay():\n",
    "  p = 100\n",
    "  seq = []\n",
    "  seq.append(one_hot(p+1)) # y\n",
    "  curr = random.randint(1, p-1)\n",
    "  seq.append(one_hot(curr))\n",
    "  prev = curr\n",
    "  for i in range(p-2): # ai1,....., aip-1\n",
    "    curr = random.randint(prev, p-1)\n",
    "    seq.append(one_hot(curr))\n",
    "    prev = curr\n",
    "  seq.append(one_hot(p+1)) # y\n",
    "  return seq\n",
    "\n",
    "def gen_data(num_data):\n",
    "  train_data = []\n",
    "  for i in range(num_data):\n",
    "    if random.random() > 0.5:\n",
    "      curr_seq = seq_xax()\n",
    "      for symbol in curr_seq:\n",
    "        train_data.append(symbol)\n",
    "    else:\n",
    "      curr_seq = seq_yay()\n",
    "      for symbol in curr_seq:\n",
    "        train_data.append(symbol)\n",
    "  return train_data"
   ]
  },
  {
   "cell_type": "code",
   "execution_count": 3,
   "metadata": {
    "colab": {
     "base_uri": "https://localhost:8080/",
     "height": 34
    },
    "colab_type": "code",
    "id": "ezdWlI5eY2qj",
    "outputId": "47a3f10b-37c9-4d0e-9272-c3a4fe074dde"
   },
   "outputs": [
    {
     "name": "stdout",
     "output_type": "stream",
     "text": [
      "(2198, 101)\n"
     ]
    }
   ],
   "source": [
    "train_data = gen_data(10)\n",
    "test_data = gen_data(10)\n",
    "train_data = np.array(train_data)\n",
    "print((np.shape(train_data)))"
   ]
  },
  {
   "cell_type": "markdown",
   "metadata": {
    "colab_type": "text",
    "id": "MvK0XCXjKCH5"
   },
   "source": [
    "## Transform Data \n",
    "- We do this so as to have 100 RNNCells in each layer.  \n",
    "- Also, so that a sequence as destined target to achieve i.e the next symbol "
   ]
  },
  {
   "cell_type": "code",
   "execution_count": 4,
   "metadata": {
    "colab": {
     "base_uri": "https://localhost:8080/",
     "height": 51
    },
    "colab_type": "code",
    "id": "GJKpisU2Y4di",
    "outputId": "e7721404-0c7d-47b5-814e-508e83f3854b"
   },
   "outputs": [
    {
     "name": "stdout",
     "output_type": "stream",
     "text": [
      "torch.Size([2098, 100, 101])\n",
      "torch.Size([2098, 1, 101])\n"
     ]
    }
   ],
   "source": [
    "def transform_data(arr, seq_len):\n",
    "    x, y = [], []\n",
    "    for i in range(len(arr) - seq_len):\n",
    "        x_i = arr[i : i + seq_len]\n",
    "        y_i = arr[i + seq_len: i + seq_len + 1]\n",
    "        # print(np.shape(y_i))\n",
    "        x.append(np.array(x_i))\n",
    "        y.append(np.array(y_i).astype('float64'))\n",
    "    x_arr = np.array(x)\n",
    "    y_arr = np.array(y)\n",
    "    x_var = Variable(torch.from_numpy(x_arr).float())\n",
    "    y_var = Variable(torch.from_numpy(y_arr).float())\n",
    "    return x_var, y_var\n",
    "\n",
    "seq_len = 100 \n",
    "train_input, train_target = transform_data(train_data, seq_len)\n",
    "test_input, test_target = transform_data(test_data, seq_len)\n",
    "print(np.shape(train_input))\n",
    "print(np.shape((train_target)))\n",
    "# print(train_target[:5])\n",
    "# # print(train_input[:5])"
   ]
  },
  {
   "cell_type": "markdown",
   "metadata": {
    "colab_type": "text",
    "id": "Ar9Y0XWTKdGD"
   },
   "source": [
    "## LSTM\n",
    "### LSTM Architecture  \n",
    "- The architecture has 3 LSTM layers stacked on top of each other.\n",
    "- Then we have a linear fully connected (FC) layer.  \n",
    "- We have a softmax layer as an activation function before the output layer.\n",
    "- We, further, make sure that the input size and the output size is 101 (our one-hot vector size)  "
   ]
  },
  {
   "cell_type": "code",
   "execution_count": 0,
   "metadata": {
    "colab": {},
    "colab_type": "code",
    "id": "qp6dXnz5Y6nT"
   },
   "outputs": [],
   "source": [
    "class LSTM(nn.Module):\n",
    "    def __init__(self, input_size=101, hidden_layer_size=150, output_size=101, num_layers = 3):\n",
    "        super().__init__()\n",
    "        self.hidden_layer_size = hidden_layer_size\n",
    "\n",
    "        self.lstm = nn.LSTM(input_size, hidden_layer_size, num_layers)\n",
    "\n",
    "        self.linear = nn.Linear(hidden_layer_size, output_size)\n",
    "\n",
    "        self.hidden_cell = (torch.zeros(3,1,self.hidden_layer_size),\n",
    "                            torch.zeros(3,1,self.hidden_layer_size))\n",
    "        self.soft = nn.Softmax(dim=1)\n",
    "\n",
    "    def forward(self, input_seq):\n",
    "        lstm_out, self.hidden_cell = self.lstm(input_seq.view(len(input_seq) ,1, -1), self.hidden_cell)\n",
    "        predictions = self.soft(self.linear(lstm_out.view(len(input_seq), -1)))\n",
    "        return predictions[-1]"
   ]
  },
  {
   "cell_type": "markdown",
   "metadata": {
    "colab_type": "text",
    "id": "j27hMqrtKuPY"
   },
   "source": [
    "- We define which optimiser to use. Here, it is Adam \n",
    "- Learning rate is also defined. Here, it is $2*10^{-8}$ \n",
    "- We also define which loss function to use. Here, we used MSE loss. "
   ]
  },
  {
   "cell_type": "code",
   "execution_count": 0,
   "metadata": {
    "colab": {},
    "colab_type": "code",
    "id": "0MH1BWfuY8qk"
   },
   "outputs": [],
   "source": [
    "model = LSTM()\n",
    "loss_function = nn.MSELoss()\n",
    "optimizer = torch.optim.Adam(model.parameters(), lr=2*10e-8)"
   ]
  },
  {
   "cell_type": "markdown",
   "metadata": {
    "colab_type": "text",
    "id": "pMpDltVNMLKi"
   },
   "source": [
    "### Training the Model \n",
    "- We run it for 35 epochs. In each epoch, we go through all the sequences one by one. \n",
    "- Then, we compute gradients and perform a backpropagation. "
   ]
  },
  {
   "cell_type": "code",
   "execution_count": 7,
   "metadata": {
    "colab": {
     "base_uri": "https://localhost:8080/",
     "height": 811
    },
    "colab_type": "code",
    "id": "lCSLCYKDY-YA",
    "outputId": "2c0e3d68-8f6f-4a9c-c8ef-aaefaa3d8849"
   },
   "outputs": [
    {
     "name": "stderr",
     "output_type": "stream",
     "text": [
      "/usr/local/lib/python3.6/dist-packages/torch/nn/modules/loss.py:432: UserWarning: Using a target size (torch.Size([1, 101])) that is different to the input size (torch.Size([101])). This will likely lead to incorrect results due to broadcasting. Please ensure they have the same size.\n",
      "  return F.mse_loss(input, target, reduction=self.reduction)\n"
     ]
    },
    {
     "name": "stdout",
     "output_type": "stream",
     "text": [
      "epoch:   0 loss: 0.00980381\n",
      "epoch:   1 loss: 0.00980182\n",
      "epoch:   2 loss: 0.00979977\n",
      "epoch:   3 loss: 0.00979764\n",
      "epoch:   4 loss: 0.00979541\n",
      "epoch:   5 loss: 0.00979308\n",
      "epoch:   6 loss: 0.00979062\n",
      "epoch:   7 loss: 0.00978801\n",
      "epoch:   8 loss: 0.00978522\n",
      "epoch:   9 loss: 0.00978221\n",
      "epoch:  10 loss: 0.00977895\n",
      "epoch:  11 loss: 0.00977536\n",
      "epoch:  12 loss: 0.00977140\n",
      "epoch:  13 loss: 0.00976697\n",
      "epoch:  14 loss: 0.00976194\n",
      "epoch:  15 loss: 0.00975619\n",
      "epoch:  16 loss: 0.00974949\n",
      "epoch:  17 loss: 0.00974158\n",
      "epoch:  18 loss: 0.00973206\n",
      "epoch:  19 loss: 0.00972034\n",
      "epoch:  20 loss: 0.00970558\n",
      "epoch:  21 loss: 0.00968642\n",
      "epoch:  22 loss: 0.00966067\n",
      "epoch:  23 loss: 0.00962465\n",
      "epoch:  24 loss: 0.00957188\n",
      "epoch:  25 loss: 0.00949079\n",
      "epoch:  26 loss: 0.00936081\n",
      "epoch:  27 loss: 0.00914906\n",
      "epoch:  28 loss: 0.00881456\n",
      "epoch:  29 loss: 0.00832882\n",
      "epoch:  30 loss: 0.00770760\n",
      "epoch:  31 loss: 0.00702174\n",
      "epoch:  32 loss: 0.00636293\n",
      "epoch:  33 loss: 0.00579880\n",
      "epoch:  34 loss: 0.00535443\n"
     ]
    }
   ],
   "source": [
    "epochs = 35\n",
    "loss_epoch = []\n",
    "index = []\n",
    "for i in range(epochs): \n",
    "    index.append(i)\n",
    "    for seq, labels in zip(train_input, train_target):\n",
    "        optimizer.zero_grad()\n",
    "        model.hidden_cell = (torch.zeros(3, 1, model.hidden_layer_size),\n",
    "                             torch.zeros(3, 1, model.hidden_layer_size))\n",
    "        # print(np.shape(seq))\n",
    "        y_pred = model(seq)\n",
    "\n",
    "        single_loss = loss_function(y_pred, labels)\n",
    "        single_loss.backward()\n",
    "        optimizer.step()\n",
    "    loss_epoch.append(single_loss.item()) # Each epoch has 10 sequences. So printing after epoch for better representation. Talk abotu multi-dirac \n",
    "    print(f'epoch: {i:3} loss: {single_loss.item():10.8f}')\n"
   ]
  },
  {
   "cell_type": "markdown",
   "metadata": {
    "colab_type": "text",
    "id": "437wERT_MyzH"
   },
   "source": [
    "### Our Model loss curve\n",
    "The below plot shows epoch vs loss curve "
   ]
  },
  {
   "cell_type": "code",
   "execution_count": 8,
   "metadata": {
    "colab": {
     "base_uri": "https://localhost:8080/",
     "height": 285
    },
    "colab_type": "code",
    "id": "bfik57j5IY-N",
    "outputId": "e6d8753e-4f6f-4380-af0b-a8fe3cd4f3d6"
   },
   "outputs": [
    {
     "data": {
      "text/plain": [
       "[<matplotlib.lines.Line2D at 0x7f51c56c54a8>]"
      ]
     },
     "execution_count": 8,
     "metadata": {
      "tags": []
     },
     "output_type": "execute_result"
    },
    {
     "data": {
      "image/png": "[encoded data removed]",
      "text/plain": [
       "<Figure size 432x288 with 1 Axes>"
      ]
     },
     "metadata": {
      "needs_background": "light",
      "tags": []
     },
     "output_type": "display_data"
    }
   ],
   "source": [
    "plt.plot(index, loss_epoch)"
   ]
  },
  {
   "cell_type": "markdown",
   "metadata": {
    "colab_type": "text",
    "id": "qjsiZSh8NB1s"
   },
   "source": [
    "### Test our Model\n"
   ]
  },
  {
   "cell_type": "code",
   "execution_count": 0,
   "metadata": {
    "colab": {},
    "colab_type": "code",
    "id": "S-qgPP_rSizC"
   },
   "outputs": [],
   "source": [
    "model.eval()\n",
    "test_outputs = []\n",
    "for seq in test_input:\n",
    "  with torch.no_grad():\n",
    "        model.hidden_cell = (torch.zeros(3, 1, model.hidden_layer_size),\n",
    "                              torch.zeros(3, 1, model.hidden_layer_size))\n",
    "        seq = seq.float()\n",
    "        seq= Variable(seq)\n",
    "        y_pred = model(seq)\n",
    "        test_outputs.append(y_pred)"
   ]
  },
  {
   "cell_type": "code",
   "execution_count": 10,
   "metadata": {
    "colab": {
     "base_uri": "https://localhost:8080/",
     "height": 153
    },
    "colab_type": "code",
    "id": "Fq_kTjdHYEZE",
    "outputId": "db81793f-9832-4ee9-fd2e-8b608f9d6c9c"
   },
   "outputs": [
    {
     "name": "stdout",
     "output_type": "stream",
     "text": [
      "tensor(99)\n",
      "tensor([[0., 0., 0., 0., 0., 0., 0., 0., 0., 0., 0., 0., 0., 0., 0., 0., 0., 0.,\n",
      "         0., 0., 0., 0., 0., 0., 0., 0., 0., 0., 0., 0., 0., 0., 0., 0., 0., 0.,\n",
      "         0., 0., 0., 1., 0., 0., 0., 0., 0., 0., 0., 0., 0., 0., 0., 0., 0., 0.,\n",
      "         0., 0., 0., 0., 0., 0., 0., 0., 0., 0., 0., 0., 0., 0., 0., 0., 0., 0.,\n",
      "         0., 0., 0., 0., 0., 0., 0., 0., 0., 0., 0., 0., 0., 0., 0., 0., 0., 0.,\n",
      "         0., 0., 0., 0., 0., 0., 0., 0., 0., 0., 0.]])\n",
      "tensor(39)\n"
     ]
    }
   ],
   "source": [
    "# print(test_outputs[:1])\n",
    "_, target = test_outputs[0].max(dim=0)\n",
    "print(target)\n",
    "# print(test_target[:1])\n",
    "print(test_target[0])\n",
    "test = (test_target[0].reshape(-1,))\n",
    "_, target = test.max(dim=0)\n",
    "print(target)\n",
    "# print(test_target.reshape(,-1))"
   ]
  },
  {
   "cell_type": "markdown",
   "metadata": {
    "colab_type": "text",
    "id": "EN1PRyMPQJgj"
   },
   "source": [
    "We pick the index which the models gives maximum probability to. This is the class ID that we take since we anyway know that the final vector should be one-hot. We compare this with target index (the index to which we have 1 in one-hot vector) and find the accuracy of the model."
   ]
  },
  {
   "cell_type": "code",
   "execution_count": 11,
   "metadata": {
    "colab": {
     "base_uri": "https://localhost:8080/",
     "height": 34
    },
    "colab_type": "code",
    "id": "3wSYgf4lXIAM",
    "outputId": "576c5466-1af1-43e7-cdd7-2d02af380d32"
   },
   "outputs": [
    {
     "name": "stdout",
     "output_type": "stream",
     "text": [
      "Accuracy 4.146341463414634\n"
     ]
    }
   ],
   "source": [
    "fin_corr = []\n",
    "y = 0\n",
    "for i in range(10): \n",
    "  correct = 0\n",
    "  for output, label in zip(test_outputs, test_target):\n",
    "    y += 1 \n",
    "    label = label.reshape(-1,)\n",
    "    _, target = label.max(dim=0) #changing class ID \n",
    "    _, output = output.max(dim=0) #changing to class ID\n",
    "    if target == output:\n",
    "      correct += 1\n",
    "  fin_corr.append(correct)\n",
    "print(\"Accuracy\", (np.mean(np.array(fin_corr))/y)*100)"
   ]
  },
  {
   "cell_type": "markdown",
   "metadata": {
    "colab_type": "text",
    "id": "wXEtMcVeNN8m"
   },
   "source": [
    "## RNN\n",
    "### RNN Architecture \n",
    "- We have 3 layers of RNN stacked up on top of each other \n",
    "- We then have a linear fully connected (FC) connected layer \n",
    "- Before the output layer we perform softmax. \n",
    "- Our input and output sizes are 101 corresponding to our one-hot sized vectors.  "
   ]
  },
  {
   "cell_type": "code",
   "execution_count": 0,
   "metadata": {
    "colab": {},
    "colab_type": "code",
    "id": "0ikaKzR0X59g"
   },
   "outputs": [],
   "source": [
    "class RNN(nn.Module):\n",
    "    def __init__(self, input_size=101, hidden_layer_size=150, output_size=101, num_layers = 3):\n",
    "        super().__init__()\n",
    "        self.hidden_layer_size = hidden_layer_size\n",
    "\n",
    "        self.rnn = nn.RNN(input_size, hidden_layer_size, num_layers)\n",
    "\n",
    "        self.linear = nn.Linear(hidden_layer_size, output_size)\n",
    "\n",
    "        self.hidden_cell = (torch.zeros(3,1,self.hidden_layer_size))\n",
    "        self.soft = nn.Softmax(dim=1)\n",
    "\n",
    "    def forward(self, input_seq):\n",
    "        rnn_out, self.hidden_cell = self.rnn(input_seq.view(len(input_seq) ,1, -1), self.hidden_cell)\n",
    "        predictions = self.soft(self.linear(rnn_out.view(len(input_seq), -1)))\n",
    "        return predictions[-1]"
   ]
  },
  {
   "cell_type": "markdown",
   "metadata": {
    "colab_type": "text",
    "id": "Hf76ivE1ORM3"
   },
   "source": [
    "- We choose MSE loss \n",
    "- Optimiser is Adam \n",
    "- Learning rate is $2*10^{-8}$"
   ]
  },
  {
   "cell_type": "code",
   "execution_count": 0,
   "metadata": {
    "colab": {},
    "colab_type": "code",
    "id": "fFFbK_pcanDC"
   },
   "outputs": [],
   "source": [
    "model = RNN()\n",
    "loss_function = nn.MSELoss()\n",
    "optimizer = torch.optim.Adam(model.parameters(), lr=2*10e-8)"
   ]
  },
  {
   "cell_type": "markdown",
   "metadata": {
    "colab_type": "text",
    "id": "JnEKdIOaO-LM"
   },
   "source": [
    "### Train the Model \n",
    "- We run this model for 50 epochs. In each epoch, all sequences are passed through one at a time\n",
    "- We compute gradient descent and perform backpropagation in each epoch to reduce the loss "
   ]
  },
  {
   "cell_type": "code",
   "execution_count": 14,
   "metadata": {
    "colab": {
     "base_uri": "https://localhost:8080/",
     "height": 1000
    },
    "colab_type": "code",
    "id": "X1LZy8ecawMr",
    "outputId": "447d56cb-d4f5-4d6c-db3e-77745beb74b6"
   },
   "outputs": [
    {
     "name": "stderr",
     "output_type": "stream",
     "text": [
      "/usr/local/lib/python3.6/dist-packages/torch/nn/modules/loss.py:432: UserWarning: Using a target size (torch.Size([1, 101])) that is different to the input size (torch.Size([101])). This will likely lead to incorrect results due to broadcasting. Please ensure they have the same size.\n",
      "  return F.mse_loss(input, target, reduction=self.reduction)\n"
     ]
    },
    {
     "name": "stdout",
     "output_type": "stream",
     "text": [
      "epoch:   0 loss: 0.00978020\n",
      "epoch:   1 loss: 0.00976422\n",
      "epoch:   2 loss: 0.00974479\n",
      "epoch:   3 loss: 0.00971984\n",
      "epoch:   4 loss: 0.00968565\n",
      "epoch:   5 loss: 0.00963574\n",
      "epoch:   6 loss: 0.00955887\n",
      "epoch:   7 loss: 0.00943568\n",
      "epoch:   8 loss: 0.00923420\n",
      "epoch:   9 loss: 0.00891251\n",
      "epoch:  10 loss: 0.00843533\n",
      "epoch:  11 loss: 0.00780594\n",
      "epoch:  12 loss: 0.00708869\n",
      "epoch:  13 loss: 0.00638575\n",
      "epoch:  14 loss: 0.00578690\n",
      "epoch:  15 loss: 0.00533642\n",
      "epoch:  16 loss: 0.00503789\n",
      "epoch:  17 loss: 0.00487675\n",
      "epoch:  18 loss: 0.00483578\n",
      "epoch:  19 loss: 0.00490337\n",
      "epoch:  20 loss: 0.00507412\n",
      "epoch:  21 loss: 0.00534681\n",
      "epoch:  22 loss: 0.00572386\n",
      "epoch:  23 loss: 0.00620854\n",
      "epoch:  24 loss: 0.00679219\n",
      "epoch:  25 loss: 0.00743199\n",
      "epoch:  26 loss: 0.00804193\n",
      "epoch:  27 loss: 0.00853340\n",
      "epoch:  28 loss: 0.00887816\n",
      "epoch:  29 loss: 0.00910441\n",
      "epoch:  30 loss: 0.00925166\n",
      "epoch:  31 loss: 0.00934899\n",
      "epoch:  32 loss: 0.00941468\n",
      "epoch:  33 loss: 0.00945976\n",
      "epoch:  34 loss: 0.00949091\n",
      "epoch:  35 loss: 0.00951232\n",
      "epoch:  36 loss: 0.00952680\n",
      "epoch:  37 loss: 0.00953621\n",
      "epoch:  38 loss: 0.00954184\n",
      "epoch:  39 loss: 0.00954465\n",
      "epoch:  40 loss: 0.00954528\n",
      "epoch:  41 loss: 0.00954426\n",
      "epoch:  42 loss: 0.00954195\n",
      "epoch:  43 loss: 0.00953863\n",
      "epoch:  44 loss: 0.00953453\n",
      "epoch:  45 loss: 0.00952985\n",
      "epoch:  46 loss: 0.00952472\n",
      "epoch:  47 loss: 0.00951927\n",
      "epoch:  48 loss: 0.00951360\n",
      "epoch:  49 loss: 0.00950781\n"
     ]
    }
   ],
   "source": [
    "epochs = 50\n",
    "loss_epoch = []\n",
    "index = []\n",
    "for i in range(epochs): \n",
    "    index.append(i)\n",
    "    for seq, labels in zip(train_input, train_target):\n",
    "        optimizer.zero_grad()\n",
    "        model.hidden_cell = (torch.zeros(3, 1, model.hidden_layer_size))\n",
    "        # print(np.shape(seq))\n",
    "        y_pred = model(seq)\n",
    "\n",
    "        single_loss = loss_function(y_pred, labels)\n",
    "        single_loss.backward()\n",
    "        optimizer.step()\n",
    "    loss_epoch.append(single_loss.item()) # Each epoch has 10 sequences. So printing after epoch for better representation. Talk abotu multi-dirac \n",
    "    print(f'epoch: {i:3} loss: {single_loss.item():10.8f}')"
   ]
  },
  {
   "cell_type": "markdown",
   "metadata": {
    "colab_type": "text",
    "id": "OAjYH02vPvLF"
   },
   "source": [
    "We plot epoch vs loss curve here. "
   ]
  },
  {
   "cell_type": "code",
   "execution_count": 17,
   "metadata": {
    "colab": {
     "base_uri": "https://localhost:8080/",
     "height": 285
    },
    "colab_type": "code",
    "id": "nSqTmbzSI2wb",
    "outputId": "02e650be-b992-4893-a478-966716c9e9ec"
   },
   "outputs": [
    {
     "data": {
      "text/plain": [
       "[<matplotlib.lines.Line2D at 0x7f51c51d9a90>]"
      ]
     },
     "execution_count": 17,
     "metadata": {
      "tags": []
     },
     "output_type": "execute_result"
    },
    {
     "data": {
      "image/png": "[encoded data removed]",
      "text/plain": [
       "<Figure size 432x288 with 1 Axes>"
      ]
     },
     "metadata": {
      "needs_background": "light",
      "tags": []
     },
     "output_type": "display_data"
    }
   ],
   "source": [
    "plt.plot(index, loss_epoch)"
   ]
  },
  {
   "cell_type": "markdown",
   "metadata": {
    "colab_type": "text",
    "id": "72a55OAPP8l-"
   },
   "source": [
    "### Testing the Model"
   ]
  },
  {
   "cell_type": "code",
   "execution_count": 0,
   "metadata": {
    "colab": {},
    "colab_type": "code",
    "id": "IcPE9HRRbH3T"
   },
   "outputs": [],
   "source": [
    "model.eval()\n",
    "test_outputs = []\n",
    "for seq in test_input:\n",
    "  with torch.no_grad():\n",
    "        model.hidden_cell = (torch.zeros(3, 1, model.hidden_layer_size))\n",
    "        seq = seq.float()\n",
    "        seq= Variable(seq)\n",
    "        y_pred = model(seq)\n",
    "        test_outputs.append(y_pred)\n"
   ]
  },
  {
   "cell_type": "markdown",
   "metadata": {
    "colab_type": "text",
    "id": "atKkmes0RFZo"
   },
   "source": [
    "We pick the index which the models gives maximum probability to. This is the class ID that we take since we anyway know that the final vector should be one-hot. We compare this with target index (the index to which we have 1 in one-hot vector) and find the accuracy of the model."
   ]
  },
  {
   "cell_type": "code",
   "execution_count": 16,
   "metadata": {
    "colab": {
     "base_uri": "https://localhost:8080/",
     "height": 34
    },
    "colab_type": "code",
    "id": "hPp4lsD4b4Bw",
    "outputId": "9b5518c4-b6bd-4a7d-d0b7-ebe94cdb07bc"
   },
   "outputs": [
    {
     "name": "stdout",
     "output_type": "stream",
     "text": [
      "Accuracy 4.202961672473868\n"
     ]
    }
   ],
   "source": [
    "fin_corr = []\n",
    "y = 0\n",
    "for i in range(10): \n",
    "  correct = 0\n",
    "  for output, label in zip(test_outputs, test_target):\n",
    "    y += 1 \n",
    "    label = label.reshape(-1,)\n",
    "    _, target = label.max(dim=0) #changing class ID \n",
    "    _, output = output.max(dim=0) #changing to class ID\n",
    "    if target == output:\n",
    "      correct += 1\n",
    "  fin_corr.append(correct)\n",
    "print(\"Accuracy\", (np.mean(np.array(fin_corr))/y)*100)"
   ]
  },
  {
   "cell_type": "markdown",
   "metadata": {},
   "source": [
    "RNN seems to have some oscillation in the loss. Higher epochs will confirm this. But no such indication for LSTM model. Higher epochs will confirm this. RNN model performs slightly better owing to its epochs but if the epochs were same LSTM might have the edge. "
   ]
  }
 ],
 "metadata": {
  "accelerator": "GPU",
  "colab": {
   "collapsed_sections": [],
   "name": "DL Ass4 Q4.ipynb",
   "provenance": []
  },
  "kernelspec": {
   "display_name": "Python 3",
   "language": "python",
   "name": "python3"
  },
  "language_info": {
   "codemirror_mode": {
    "name": "ipython",
    "version": 3
   },
   "file_extension": ".py",
   "mimetype": "text/x-python",
   "name": "python",
   "nbconvert_exporter": "python",
   "pygments_lexer": "ipython3",
   "version": "3.7.7"
  }
 },
 "nbformat": 4,
 "nbformat_minor": 1
}
