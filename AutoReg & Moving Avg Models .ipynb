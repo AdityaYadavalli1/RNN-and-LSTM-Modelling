{
 "cells": [
  {
   "cell_type": "code",
   "execution_count": 0,
   "metadata": {
    "colab": {},
    "colab_type": "code",
    "id": "sBx0-_09fFCB"
   },
   "outputs": [],
   "source": [
    "import numpy as np \n",
    "import torch\n",
    "import torch.nn as nn\n",
    "import torch.nn.functional as F\n",
    "import os\n",
    "import torchvision\n",
    "import torchvision.transforms as transforms\n",
    "from torch.autograd import Variable\n",
    "import itertools  \n",
    "import random\n",
    "from sklearn.metrics import r2_score\n",
    "import matplotlib.pyplot as plt"
   ]
  },
  {
   "cell_type": "markdown",
   "metadata": {
    "colab_type": "text",
    "id": "s0Y_Uo5-iD3r"
   },
   "source": [
    "# Autoregressive Model \n",
    "## Generating Train data and Test data "
   ]
  },
  {
   "cell_type": "code",
   "execution_count": 0,
   "metadata": {
    "colab": {
     "base_uri": "https://localhost:8080/",
     "height": 85
    },
    "colab_type": "code",
    "id": "cveB-18JgGkf",
    "outputId": "9e561db2-1812-42be-9a5a-27be1ac1c406"
   },
   "outputs": [
    {
     "name": "stdout",
     "output_type": "stream",
     "text": [
      "<class 'list'>\n",
      "<class 'numpy.ndarray'>\n",
      "tensor([0.0844, 0.1330, 0.1330,  ..., 0.0624, 0.0764, 0.0155],\n",
      "       dtype=torch.float64)\n"
     ]
    }
   ],
   "source": [
    "#Generate Train Data \n",
    "#X(t) = a1*X(t-1) + a2*X(t-2) + a3*X(t-3) + U(t)\n",
    "train_data = []\n",
    "a1 = 0.6\n",
    "a2 = -0.5\n",
    "a3 = -0.2\n",
    "for i in range(2000):\n",
    "  if i == 0:\n",
    "    train_data.append(np.random.uniform(0,0.1))\n",
    "  elif i == 1:\n",
    "    train_data.append(a1 * train_data[0] + np.random.uniform(0,0.1))\n",
    "  elif i == 2:\n",
    "    train_data.append(a1 * train_data[1] + a2 * train_data[0]  + np.random.uniform(0,0.1))\n",
    "  else:\n",
    "    train_data.append(a1 * train_data[i-1] + a2 * train_data[i-2] + a3 * train_data[i-3] + np.random.uniform(0,0.1))\n",
    "# print(train_data[:])\n",
    "\n",
    "test_data = []\n",
    "\n",
    "#Generate Test Data \n",
    "\n",
    "for i in range(2000):\n",
    "  if i == 0:\n",
    "    test_data.append(2 + np.random.uniform(0,0.1))\n",
    "  elif i == 1:\n",
    "    test_data.append(a1 * test_data[0] + np.random.uniform(0,0.1))\n",
    "  elif i == 2:\n",
    "    test_data.append(a1 * test_data[1] + a2 * test_data[0]  + np.random.uniform(0,0.1))\n",
    "  else:\n",
    "    test_data.append(a1 * test_data[i-1] + a2 * test_data[i-2] + a3 * test_data[i-3] + np.random.uniform(0,0.1))\n",
    "\n",
    "print(type(train_data))\n",
    "train_data = np.array(train_data)\n",
    "print(type(train_data))\n",
    "# print(train_data.shape())\n",
    "b = torch.from_numpy(train_data)\n",
    "print(b[:])"
   ]
  },
  {
   "cell_type": "markdown",
   "metadata": {
    "colab_type": "text",
    "id": "O1yQubMCmuHp"
   },
   "source": [
    "## Transforming the data \n",
    "Breaking the sequences to a set of 3 sequences so that we have 3 RNNCells at each layer. Since, anything about this wasn't mentioned, I took the liberty to do this.  "
   ]
  },
  {
   "cell_type": "code",
   "execution_count": 0,
   "metadata": {
    "colab": {
     "base_uri": "https://localhost:8080/",
     "height": 153
    },
    "colab_type": "code",
    "id": "VIP_SoYkhdxa",
    "outputId": "de4d2eb1-803e-416c-ed79-26dcd0a6a667"
   },
   "outputs": [
    {
     "name": "stdout",
     "output_type": "stream",
     "text": [
      "torch.Size([1997, 3])\n",
      "torch.Size([1997, 1])\n",
      "tensor([[ 0.0844,  0.1330,  0.1330],\n",
      "        [ 0.1330,  0.1330,  0.0316],\n",
      "        [ 0.1330,  0.0316, -0.0604],\n",
      "        [ 0.0316, -0.0604, -0.0217],\n",
      "        [-0.0604, -0.0217,  0.0700]])\n",
      "torch.Size([1997, 1])\n"
     ]
    }
   ],
   "source": [
    "# we need to transform the data into batch type so that we can input this to RNNCells. Breaking it into a sequence lengths of 3 each.\n",
    "\n",
    "def transform_data(arr, seq_len):\n",
    "    x, y = [], []\n",
    "    for i in range(len(arr) - seq_len):\n",
    "        x_i = arr[i : i + seq_len]\n",
    "        y_i = arr[i + seq_len: i + seq_len + 1]\n",
    "        x.append(np.array(x_i))\n",
    "        y.append(np.array(y_i).astype('float64'))\n",
    "    x_arr = np.array(x).reshape(-1, seq_len)\n",
    "    y_arr = np.array(y)\n",
    "    x_var = Variable(torch.from_numpy(x_arr).float())\n",
    "    y_var = Variable(torch.from_numpy(y_arr).float())\n",
    "    return x_var, y_var\n",
    "\n",
    "seq_len = 3\n",
    "train_input, train_target = transform_data(train_data, seq_len)\n",
    "test_input, test_target = transform_data(test_data, seq_len)\n",
    "print(np.shape(train_input))\n",
    "print(np.shape(train_target))\n",
    "print(train_input[:5])\n",
    "print(np.shape(test_target))"
   ]
  },
  {
   "cell_type": "markdown",
   "metadata": {
    "colab_type": "text",
    "id": "97rJOrg4q4PO"
   },
   "source": [
    "## RNN with 1 layer "
   ]
  },
  {
   "cell_type": "code",
   "execution_count": 0,
   "metadata": {
    "colab": {},
    "colab_type": "code",
    "id": "sSA52gvunAjh"
   },
   "outputs": [],
   "source": [
    "class RNN_1layer(nn.Module):\n",
    "    def __init__(self, input_size=1, output_size=1, num_layers=1):\n",
    "        super().__init__()\n",
    "        # self.hidden_layer_size = hidden_layer_size\n",
    "        self.out_layer_size = output_size\n",
    "        self.rnn = nn.RNN(input_size, output_size, num_layers)\n",
    "\n",
    "        # self.linear = nn.Linear(hidden_layer_size, output_size)\n",
    "\n",
    "        self.hidden_cell = (torch.zeros(num_layers,1,self.out_layer_size))\n",
    "\n",
    "    def forward(self, input_seq):\n",
    "        rnn_out, self.hidden_cell = self.rnn(input_seq.view(len(input_seq), 1, -1), self.hidden_cell)\n",
    "        # predictions = self.linear(lstm_out.view(len(input_seq), -1))\n",
    "        predictions = rnn_out.view(len(input_seq), -1)\n",
    "        return predictions[-1]"
   ]
  },
  {
   "cell_type": "markdown",
   "metadata": {
    "colab_type": "text",
    "id": "1i2XwhecUH0G"
   },
   "source": [
    "We choose 3 things here:\n",
    "- Learning rate: $2*10^{-6}$\n",
    "- Optmiser: Stochastic Gradient Descent \n",
    "- Loss function: MSE loss "
   ]
  },
  {
   "cell_type": "code",
   "execution_count": 0,
   "metadata": {
    "colab": {
     "base_uri": "https://localhost:8080/",
     "height": 68
    },
    "colab_type": "code",
    "id": "DtX6REkVnQ6B",
    "outputId": "645c0866-3332-474b-b7d6-e19a4027d70c"
   },
   "outputs": [
    {
     "name": "stdout",
     "output_type": "stream",
     "text": [
      "RNN_1layer(\n",
      "  (rnn): RNN(1, 1)\n",
      ")\n"
     ]
    }
   ],
   "source": [
    "model = RNN_1layer()\n",
    "loss_function = nn.MSELoss()\n",
    "optimizer = torch.optim.SGD(model.parameters(), lr=2*10e-6)\n",
    "print(model)"
   ]
  },
  {
   "cell_type": "markdown",
   "metadata": {
    "colab_type": "text",
    "id": "UJ3cxzmSrAql"
   },
   "source": [
    "### RNN with 1 Layer Training \n",
    "\n",
    "We plot the epoch vs loss curve of the model during training "
   ]
  },
  {
   "cell_type": "code",
   "execution_count": 0,
   "metadata": {
    "colab": {
     "base_uri": "https://localhost:8080/",
     "height": 707
    },
    "colab_type": "code",
    "id": "LfeEtvjUnXli",
    "outputId": "33642689-6ec5-4a1c-c5be-748162589080"
   },
   "outputs": [
    {
     "name": "stdout",
     "output_type": "stream",
     "text": [
      "epoch:   1 loss: 0.24440557\n",
      "epoch:   3 loss: 0.19679061\n",
      "epoch:   5 loss: 0.15621440\n",
      "epoch:   7 loss: 0.12234732\n",
      "epoch:   9 loss: 0.09467743\n",
      "epoch:  11 loss: 0.07254701\n",
      "epoch:  13 loss: 0.05519594\n",
      "epoch:  15 loss: 0.04182401\n",
      "epoch:  17 loss: 0.03166018\n",
      "epoch:  19 loss: 0.02401299\n",
      "epoch:  21 loss: 0.01829773\n",
      "epoch:  23 loss: 0.01404172\n",
      "epoch:  25 loss: 0.01087554\n",
      "epoch:  27 loss: 0.00851717\n",
      "epoch:  29 loss: 0.00675526\n",
      "epoch:  31 loss: 0.00543311\n",
      "epoch:  33 loss: 0.00443543\n",
      "epoch:  35 loss: 0.00367783\n",
      "epoch:  37 loss: 0.00309849\n",
      "epoch:  39 loss: 0.00265231\n",
      "epoch:  41 loss: 0.00230618\n",
      "epoch:  43 loss: 0.00203566\n",
      "epoch:  45 loss: 0.00182285\n",
      "epoch:  47 loss: 0.00165426\n",
      "epoch:  49 loss: 0.00151991\n"
     ]
    },
    {
     "data": {
      "text/plain": [
       "[<matplotlib.lines.Line2D at 0x7f85574649e8>]"
      ]
     },
     "execution_count": 36,
     "metadata": {
      "tags": []
     },
     "output_type": "execute_result"
    },
    {
     "data": {
      "image/png": "[encoded data removed]",
      "text/plain": [
       "<Figure size 432x288 with 1 Axes>"
      ]
     },
     "metadata": {
      "needs_background": "light",
      "tags": []
     },
     "output_type": "display_data"
    }
   ],
   "source": [
    "epochs = 50\n",
    "loss_epoch = []\n",
    "index = []\n",
    "for i in range(epochs):\n",
    "    # y = 0\n",
    "    index.append(i)\n",
    "    for seq, labels in itertools.zip_longest(train_input, train_target):\n",
    "        # print(np.shape(seq))\n",
    "        # print(y+1)\n",
    "        # y = y + 1\n",
    "        optimizer.zero_grad()\n",
    "        model.hidden_cell = (torch.zeros(1, 1, model.out_layer_size))\n",
    "        # print(np.shape(seq))\n",
    "        y_pred = model(seq)\n",
    "\n",
    "        single_loss = loss_function(y_pred, labels)\n",
    "        single_loss.backward()\n",
    "        optimizer.step()\n",
    "    loss_epoch.append(single_loss.item())\n",
    "    if i%2 == 1:\n",
    "        print(f'epoch: {i:3} loss: {single_loss.item():10.8f}')\n",
    "plt.plot(index, loss_epoch)"
   ]
  },
  {
   "cell_type": "markdown",
   "metadata": {
    "colab_type": "text",
    "id": "OpkufBJLrJRb"
   },
   "source": [
    "### RNN with 1 layer Testing \n",
    "\n",
    "MAE, MSE, R2 score on test data is mentioned below. "
   ]
  },
  {
   "cell_type": "code",
   "execution_count": 0,
   "metadata": {
    "colab": {
     "base_uri": "https://localhost:8080/",
     "height": 216
    },
    "colab_type": "code",
    "id": "MoPDI-oyo51I",
    "outputId": "f89ac2bc-f4a5-4f0a-a8f3-5e34cea2ebc3"
   },
   "outputs": [
    {
     "name": "stdout",
     "output_type": "stream",
     "text": [
      "MSE loss 2.6120080947875977\n",
      "MAE loss 1.358898639678955\n",
      "R2 score 0.0074446140994558485\n"
     ]
    },
    {
     "name": "stderr",
     "output_type": "stream",
     "text": [
      "/usr/local/lib/python3.6/dist-packages/torch/nn/modules/loss.py:432: UserWarning: Using a target size (torch.Size([1994, 1])) that is different to the input size (torch.Size([1994])). This will likely lead to incorrect results due to broadcasting. Please ensure they have the same size.\n",
      "  return F.mse_loss(input, target, reduction=self.reduction)\n",
      "/usr/local/lib/python3.6/dist-packages/torch/nn/modules/loss.py:88: UserWarning: Using a target size (torch.Size([1994, 1])) that is different to the input size (torch.Size([1994])). This will likely lead to incorrect results due to broadcasting. Please ensure they have the same size.\n",
      "  return F.l1_loss(input, target, reduction=self.reduction)\n"
     ]
    }
   ],
   "source": [
    "model.eval()\n",
    "test_outputs = []\n",
    "for seq in test_input:\n",
    "  # print(np.shape(seq))\n",
    "  with torch.no_grad():\n",
    "        model.hidden = (torch.zeros(1, 1, model.out_layer_size))\n",
    "        test_outputs.append(model(seq).item())\n",
    "\n",
    "test_outputs=np.array(test_outputs)\n",
    "test_outputs=Variable(torch.from_numpy(test_outputs).float())\n",
    "MSE_loss = loss_function(test_outputs, test_target)\n",
    "L1_loss_function = nn.L1Loss()\n",
    "MAE_loss = L1_loss_function(test_outputs, test_target)\n",
    "R2 = r2_score(test_target,test_outputs) \n",
    "print(\"MSE loss\", MSE_loss.item())\n",
    "print(\"MAE loss\", MAE_loss.item())\n",
    "print(\"R2 score\", R2)"
   ]
  },
  {
   "cell_type": "markdown",
   "metadata": {
    "colab_type": "text",
    "id": "uh28BtzwxOmA"
   },
   "source": [
    "## 2 layers of RNNs "
   ]
  },
  {
   "cell_type": "code",
   "execution_count": 0,
   "metadata": {
    "colab": {},
    "colab_type": "code",
    "id": "vicn0E2oyAeE"
   },
   "outputs": [],
   "source": [
    "class RNN_2layer(nn.Module):\n",
    "    def __init__(self, input_size=1, output_size=1, num_layers=2):\n",
    "        super().__init__()\n",
    "        # self.hidden_layer_size = hidden_layer_size\n",
    "        self.out_layer_size = output_size\n",
    "        self.rnn = nn.RNN(input_size, output_size, num_layers)\n",
    "\n",
    "        # self.linear = nn.Linear(hidden_layer_size, output_size)\n",
    "\n",
    "        self.hidden_cell = (torch.zeros(num_layers,1,self.out_layer_size))\n",
    "\n",
    "    def forward(self, input_seq):\n",
    "        rnn_out, self.hidden_cell = self.rnn(input_seq.view(len(input_seq), 1, -1), self.hidden_cell)\n",
    "        # predictions = self.linear(lstm_out.view(len(input_seq), -1))\n",
    "        predictions = rnn_out.view(len(input_seq), -1)\n",
    "        return predictions[-1]\n"
   ]
  },
  {
   "cell_type": "markdown",
   "metadata": {
    "colab_type": "text",
    "id": "Zjx4b0lyVRA9"
   },
   "source": [
    "\n",
    "We choose 3 things here:\n",
    "- Learning rate: $10^{-6}$\n",
    "- Optmiser: Stochastic Gradient Descent \n",
    "- Loss function: MSE loss \n"
   ]
  },
  {
   "cell_type": "code",
   "execution_count": 0,
   "metadata": {
    "colab": {
     "base_uri": "https://localhost:8080/",
     "height": 68
    },
    "colab_type": "code",
    "id": "HHdu_Z1PsGQ-",
    "outputId": "2f77403a-d9f4-4391-bd72-374f82fee7f6"
   },
   "outputs": [
    {
     "name": "stdout",
     "output_type": "stream",
     "text": [
      "RNN_2layer(\n",
      "  (rnn): RNN(1, 1, num_layers=2)\n",
      ")\n"
     ]
    }
   ],
   "source": [
    "model = RNN_2layer()\n",
    "loss_function = nn.MSELoss()\n",
    "optimizer = torch.optim.SGD(model.parameters(), lr=10e-6)\n",
    "print(model)"
   ]
  },
  {
   "cell_type": "markdown",
   "metadata": {
    "colab_type": "text",
    "id": "O-p1AUOvxbDh"
   },
   "source": [
    "### 2 Layer RNN Model Training \n",
    "We plot epoch vs loss curve during training of this model "
   ]
  },
  {
   "cell_type": "code",
   "execution_count": 0,
   "metadata": {
    "colab": {
     "base_uri": "https://localhost:8080/",
     "height": 707
    },
    "colab_type": "code",
    "id": "I9O2JxfzwVwF",
    "outputId": "da385f9e-ebdd-45fb-b3f8-cdc90f188c3f"
   },
   "outputs": [
    {
     "name": "stdout",
     "output_type": "stream",
     "text": [
      "epoch:   1 loss: 3.78219986\n",
      "epoch:   3 loss: 3.78218627\n",
      "epoch:   5 loss: 3.78217244\n",
      "epoch:   7 loss: 3.78215861\n",
      "epoch:   9 loss: 3.78214550\n",
      "epoch:  11 loss: 3.78213167\n",
      "epoch:  13 loss: 3.78211832\n",
      "epoch:  15 loss: 3.78210473\n",
      "epoch:  17 loss: 3.78209186\n",
      "epoch:  19 loss: 3.78207779\n",
      "epoch:  21 loss: 3.78206491\n",
      "epoch:  23 loss: 3.78205109\n",
      "epoch:  25 loss: 3.78203797\n",
      "epoch:  27 loss: 3.78202415\n",
      "epoch:  29 loss: 3.78201103\n",
      "epoch:  31 loss: 3.78199768\n",
      "epoch:  33 loss: 3.78198457\n",
      "epoch:  35 loss: 3.78197122\n",
      "epoch:  37 loss: 3.78195834\n",
      "epoch:  39 loss: 3.78194523\n",
      "epoch:  41 loss: 3.78193283\n",
      "epoch:  43 loss: 3.78191972\n",
      "epoch:  45 loss: 3.78190732\n",
      "epoch:  47 loss: 3.78189421\n",
      "epoch:  49 loss: 3.78188181\n"
     ]
    },
    {
     "data": {
      "text/plain": [
       "[<matplotlib.lines.Line2D at 0x7f91eb2a6160>]"
      ]
     },
     "execution_count": 115,
     "metadata": {
      "tags": []
     },
     "output_type": "execute_result"
    },
    {
     "data": {
      "image/png": "[encoded data removed]",
      "text/plain": [
       "<Figure size 432x288 with 1 Axes>"
      ]
     },
     "metadata": {
      "needs_background": "light",
      "tags": []
     },
     "output_type": "display_data"
    }
   ],
   "source": [
    "epochs = 50\n",
    "loss_epoch = []\n",
    "index = []\n",
    "for i in range(epochs):\n",
    "    # y = 0\n",
    "    index.append(i)\n",
    "    for seq, labels in itertools.zip_longest(train_input, train_target):\n",
    "        # print(np.shape(seq))\n",
    "        # print(y+1)\n",
    "        # y = y + 1\n",
    "        optimizer.zero_grad()\n",
    "        model.hidden_cell = (torch.zeros(2, 1, model.out_layer_size))\n",
    "        # print(np.shape(seq))\n",
    "        y_pred = model(seq)\n",
    "\n",
    "        single_loss = loss_function(y_pred, labels)\n",
    "        single_loss.backward()\n",
    "        optimizer.step()\n",
    "\n",
    "    loss_epoch.append(single_loss.item())\n",
    "    if i%2 == 1:\n",
    "        print(f'epoch: {i:3} loss: {single_loss.item():10.8f}')\n",
    "\n",
    "# print(f'epoch: {i:3} loss: {single_loss.item():10.10f}')\n",
    "plt.plot(index, loss_epoch)"
   ]
  },
  {
   "cell_type": "markdown",
   "metadata": {
    "colab_type": "text",
    "id": "jl5W3Fc_zlU3"
   },
   "source": [
    "### 2 layer RNN model on Test Data "
   ]
  },
  {
   "cell_type": "code",
   "execution_count": 0,
   "metadata": {
    "colab": {},
    "colab_type": "code",
    "id": "QAuwUlgqAr5U"
   },
   "outputs": [],
   "source": [
    "model.eval()\n",
    "test_outputs = []\n",
    "for seq in test_input:\n",
    "  # print(np.shape(seq))\n",
    "  with torch.no_grad():\n",
    "        model.hidden = (torch.zeros(2, 1, model.out_layer_size))\n",
    "        test_outputs.append(model(seq).item())"
   ]
  },
  {
   "cell_type": "markdown",
   "metadata": {
    "colab_type": "text",
    "id": "lIjybglnVjG4"
   },
   "source": [
    "MSE, MAE, R2 scores of this model on the test data are mentioned below. "
   ]
  },
  {
   "cell_type": "code",
   "execution_count": 0,
   "metadata": {
    "colab": {
     "base_uri": "https://localhost:8080/",
     "height": 216
    },
    "colab_type": "code",
    "id": "yLXqbJN0F1rc",
    "outputId": "fc25d449-d28c-443f-d18a-173e1764cefa"
   },
   "outputs": [
    {
     "name": "stdout",
     "output_type": "stream",
     "text": [
      "MSE loss 2.557121992111206\n",
      "MAE loss 1.3469280004501343\n",
      "R2 score 0.0006081058351787849\n"
     ]
    },
    {
     "name": "stderr",
     "output_type": "stream",
     "text": [
      "/usr/local/lib/python3.6/dist-packages/torch/nn/modules/loss.py:432: UserWarning: Using a target size (torch.Size([1994, 1])) that is different to the input size (torch.Size([1994])). This will likely lead to incorrect results due to broadcasting. Please ensure they have the same size.\n",
      "  return F.mse_loss(input, target, reduction=self.reduction)\n",
      "/usr/local/lib/python3.6/dist-packages/torch/nn/modules/loss.py:88: UserWarning: Using a target size (torch.Size([1994, 1])) that is different to the input size (torch.Size([1994])). This will likely lead to incorrect results due to broadcasting. Please ensure they have the same size.\n",
      "  return F.l1_loss(input, target, reduction=self.reduction)\n"
     ]
    }
   ],
   "source": [
    "test_outputs=np.array(test_outputs)\n",
    "test_outputs=Variable(torch.from_numpy(test_outputs).float())\n",
    "MSE_loss = loss_function(test_outputs, test_target)\n",
    "L1_loss_function = nn.L1Loss()\n",
    "MAE_loss = L1_loss_function(test_outputs, test_target)\n",
    "R2 = r2_score(test_target,test_outputs) \n",
    "print(\"MSE loss\", MSE_loss.item())\n",
    "print(\"MAE loss\", MAE_loss.item())\n",
    "print(\"R2 score\", R2)"
   ]
  },
  {
   "cell_type": "markdown",
   "metadata": {
    "colab_type": "text",
    "id": "CQX-S8Yh1wGw"
   },
   "source": [
    "## 3 layers of RNN "
   ]
  },
  {
   "cell_type": "code",
   "execution_count": 0,
   "metadata": {
    "colab": {},
    "colab_type": "code",
    "id": "NkwpHXuYzt0x"
   },
   "outputs": [],
   "source": [
    "class RNN_3layer(nn.Module):\n",
    "    def __init__(self, input_size=1, output_size=1, num_layers=3):\n",
    "        super().__init__()\n",
    "        # self.hidden_layer_size = hidden_layer_size\n",
    "        self.out_layer_size = output_size\n",
    "        self.rnn = nn.RNN(input_size, output_size, num_layers)\n",
    "\n",
    "        # self.linear = nn.Linear(hidden_layer_size, output_size)\n",
    "\n",
    "        self.hidden_cell = (torch.zeros(num_layers,1,self.out_layer_size))\n",
    "\n",
    "    def forward(self, input_seq):\n",
    "        rnn_out, self.hidden_cell = self.rnn(input_seq.view(len(input_seq), 1, -1), self.hidden_cell)\n",
    "        # predictions = self.linear(lstm_out.view(len(input_seq), -1))\n",
    "        predictions = rnn_out.view(len(input_seq), -1)\n",
    "        return predictions[-1]"
   ]
  },
  {
   "cell_type": "markdown",
   "metadata": {
    "colab_type": "text",
    "id": "3R_VhAikV4l-"
   },
   "source": [
    "\n",
    "We choose 3 things here:\n",
    "- Learning rate: $5*10^{-5}$\n",
    "- Optmiser: Stochastic Gradient Descent \n",
    "- Loss function: MSE loss \n"
   ]
  },
  {
   "cell_type": "code",
   "execution_count": 0,
   "metadata": {
    "colab": {
     "base_uri": "https://localhost:8080/",
     "height": 68
    },
    "colab_type": "code",
    "id": "XlEBAjRyz2UI",
    "outputId": "16f6c396-1efe-41de-ad2a-8091ca76e8f9"
   },
   "outputs": [
    {
     "name": "stdout",
     "output_type": "stream",
     "text": [
      "RNN_3layer(\n",
      "  (rnn): RNN(1, 1, num_layers=3)\n",
      ")\n"
     ]
    }
   ],
   "source": [
    "model = RNN_3layer()\n",
    "loss_function = nn.MSELoss()\n",
    "optimizer = torch.optim.SGD(model.parameters(), lr=5*10e-5)\n",
    "print(model)"
   ]
  },
  {
   "cell_type": "markdown",
   "metadata": {
    "colab_type": "text",
    "id": "w0F4OvUaWC7L"
   },
   "source": [
    "### Training of this Model \n",
    "- We choose to run this model for 50 epochs \n",
    "- Plot learning rate vs epochs on the training data "
   ]
  },
  {
   "cell_type": "code",
   "execution_count": 0,
   "metadata": {
    "colab": {
     "base_uri": "https://localhost:8080/",
     "height": 707
    },
    "colab_type": "code",
    "id": "-nPrucFnz7UJ",
    "outputId": "15750279-281f-4368-a511-51ef3059646a"
   },
   "outputs": [
    {
     "name": "stdout",
     "output_type": "stream",
     "text": [
      "epoch:   1 loss: 0.00045801\n",
      "epoch:   3 loss: 0.00044342\n",
      "epoch:   5 loss: 0.00044282\n",
      "epoch:   7 loss: 0.00044227\n",
      "epoch:   9 loss: 0.00044170\n",
      "epoch:  11 loss: 0.00044113\n",
      "epoch:  13 loss: 0.00044056\n",
      "epoch:  15 loss: 0.00043998\n",
      "epoch:  17 loss: 0.00043937\n",
      "epoch:  19 loss: 0.00043880\n",
      "epoch:  21 loss: 0.00043823\n",
      "epoch:  23 loss: 0.00043766\n",
      "epoch:  25 loss: 0.00043709\n",
      "epoch:  27 loss: 0.00043650\n",
      "epoch:  29 loss: 0.00043590\n",
      "epoch:  31 loss: 0.00043531\n",
      "epoch:  33 loss: 0.00043469\n",
      "epoch:  35 loss: 0.00043411\n",
      "epoch:  37 loss: 0.00043354\n",
      "epoch:  39 loss: 0.00043291\n",
      "epoch:  41 loss: 0.00043230\n",
      "epoch:  43 loss: 0.00043172\n",
      "epoch:  45 loss: 0.00043110\n",
      "epoch:  47 loss: 0.00043048\n",
      "epoch:  49 loss: 0.00042986\n"
     ]
    },
    {
     "data": {
      "text/plain": [
       "[<matplotlib.lines.Line2D at 0x7f2cb7179860>]"
      ]
     },
     "execution_count": 8,
     "metadata": {
      "tags": []
     },
     "output_type": "execute_result"
    },
    {
     "data": {
      "image/png": "[encoded data removed]",
      "text/plain": [
       "<Figure size 432x288 with 1 Axes>"
      ]
     },
     "metadata": {
      "needs_background": "light",
      "tags": []
     },
     "output_type": "display_data"
    }
   ],
   "source": [
    "epochs = 50\n",
    "loss_epoch = []\n",
    "index = []\n",
    "for i in range(epochs):\n",
    "    # y = 0\n",
    "    index.append(i)\n",
    "    for seq, labels in itertools.zip_longest(train_input, train_target):\n",
    "        # print(np.shape(seq))\n",
    "        # print(y+1)\n",
    "        # y = y + 1\n",
    "        optimizer.zero_grad()\n",
    "        model.hidden_cell = (torch.zeros(3, 1, model.out_layer_size))\n",
    "        # print(np.shape(seq))\n",
    "        y_pred = model(seq)\n",
    "\n",
    "        single_loss = loss_function(y_pred, labels)\n",
    "        single_loss.backward()\n",
    "        optimizer.step()\n",
    "\n",
    "    loss_epoch.append(single_loss.item())\n",
    "    if i%2 == 1:\n",
    "        print(f'epoch: {i:3} loss: {single_loss.item():10.8f}')\n",
    "\n",
    "# print(f'epoch: {i:3} loss: {single_loss.item():10.10f}')\n",
    "plt.plot(index, loss_epoch)"
   ]
  },
  {
   "cell_type": "markdown",
   "metadata": {
    "colab_type": "text",
    "id": "YVnCHmJ9WjO4"
   },
   "source": [
    "### Testing this Model \n",
    "We plot mention MSE, MAE and R2 scores below "
   ]
  },
  {
   "cell_type": "code",
   "execution_count": 0,
   "metadata": {
    "colab": {},
    "colab_type": "code",
    "id": "PrxwfD-60uwi"
   },
   "outputs": [],
   "source": [
    "model.eval()\n",
    "test_outputs = []\n",
    "for seq in test_input:\n",
    "  # print(np.shape(seq))\n",
    "  with torch.no_grad():\n",
    "        model.hidden = (torch.zeros(3, 1, model.out_layer_size))\n",
    "        test_outputs.append(model(seq).item())"
   ]
  },
  {
   "cell_type": "code",
   "execution_count": 0,
   "metadata": {
    "colab": {
     "base_uri": "https://localhost:8080/",
     "height": 176
    },
    "colab_type": "code",
    "id": "JLwIp2SH1DFV",
    "outputId": "09340c74-26f8-47ff-ab36-18de68e7ba38"
   },
   "outputs": [
    {
     "name": "stdout",
     "output_type": "stream",
     "text": [
      "MSE loss 0.004309444222599268\n",
      "MAE loss 0.043261315673589706\n",
      "R2 score -0.1973995598451206\n"
     ]
    },
    {
     "name": "stderr",
     "output_type": "stream",
     "text": [
      "/usr/local/lib/python3.6/dist-packages/torch/nn/modules/loss.py:432: UserWarning: Using a target size (torch.Size([1997, 1])) that is different to the input size (torch.Size([1997])). This will likely lead to incorrect results due to broadcasting. Please ensure they have the same size.\n",
      "  return F.mse_loss(input, target, reduction=self.reduction)\n",
      "/usr/local/lib/python3.6/dist-packages/torch/nn/modules/loss.py:88: UserWarning: Using a target size (torch.Size([1997, 1])) that is different to the input size (torch.Size([1997])). This will likely lead to incorrect results due to broadcasting. Please ensure they have the same size.\n",
      "  return F.l1_loss(input, target, reduction=self.reduction)\n"
     ]
    }
   ],
   "source": [
    "test_outputs=np.array(test_outputs)\n",
    "test_outputs=Variable(torch.from_numpy(test_outputs).float())\n",
    "MSE_loss = loss_function(test_outputs, test_target)\n",
    "L1_loss_function = nn.L1Loss()\n",
    "MAE_loss = L1_loss_function(test_outputs, test_target)\n",
    "R2 = r2_score(test_target,test_outputs) \n",
    "print(\"MSE loss\", MSE_loss.item())\n",
    "print(\"MAE loss\", MAE_loss.item())\n",
    "print(\"R2 score\", R2)"
   ]
  },
  {
   "cell_type": "markdown",
   "metadata": {},
   "source": [
    "All the models converge but RNN with 3 layers performs the best. It has the least MSE and MAE scores on the test data. "
   ]
  },
  {
   "cell_type": "markdown",
   "metadata": {
    "colab_type": "text",
    "id": "yjvKAF2O2b_K"
   },
   "source": [
    "# Moving Average Model "
   ]
  },
  {
   "cell_type": "markdown",
   "metadata": {
    "colab_type": "text",
    "id": "0gdcphhu8HPW"
   },
   "source": [
    "## Generate Train Data and Test Data "
   ]
  },
  {
   "cell_type": "code",
   "execution_count": 0,
   "metadata": {
    "colab": {},
    "colab_type": "code",
    "id": "4rsahNOwcphA"
   },
   "outputs": [],
   "source": [
    "train_data = []\n",
    "slide_block = []\n",
    "a1 = 5\n",
    "a2 = -1\n",
    "a3 = -1\n",
    "a4 = -1\n",
    "a5 = -1 \n",
    "for i in range(2000):\n",
    "  if i == 0:\n",
    "    slide_block.append(np.random.uniform(0,1))\n",
    "    train_data.append(slide_block[i])\n",
    "  elif i == 1:\n",
    "    slide_block.append(np.random.uniform(0,1))\n",
    "    train_data.append(a1 * slide_block[i-1] + slide_block[i])\n",
    "  elif i == 2:\n",
    "    slide_block.append(np.random.uniform(0,1))\n",
    "    train_data.append(a2 * slide_block[i-2] + a1 * slide_block[i-1] + slide_block[i])\n",
    "  elif i == 3:\n",
    "    slide_block.append(np.random.uniform(0,1))\n",
    "    train_data.append(a3 * slide_block[i-3] + a2 * slide_block[i-2] + a1 * slide_block[i-1] + slide_block[i])\n",
    "  elif i == 4:\n",
    "    slide_block.append(np.random.uniform(0,1))\n",
    "    train_data.append(a4 * slide_block[i-4] + a3 * slide_block[i-3] + a2 * slide_block[i-2] + a1 * slide_block[i-1] + slide_block[i])\n",
    "  else:\n",
    "    slide_block.append(np.random.uniform(0,1))\n",
    "    train_data.append(a5 * slide_block[i-5] + a4 * slide_block[i-4] + a3 * slide_block[i-3] + a2 * slide_block[i-2] + a1 * slide_block[i-1] + slide_block[i])\n",
    "\n",
    "slide_block = []\n",
    "test_data = []\n",
    "for i in range(2000):\n",
    "  if i == 0:\n",
    "    slide_block.append(np.random.uniform(0,1))\n",
    "    test_data.append(slide_block[i])\n",
    "  elif i == 1:\n",
    "    slide_block.append(np.random.uniform(0,1))\n",
    "    test_data.append(a1 * slide_block[i-1] + slide_block[i])\n",
    "  elif i == 2:\n",
    "    slide_block.append(np.random.uniform(0,1))\n",
    "    test_data.append(a2 * slide_block[i-2] + a1 * slide_block[i-1] + slide_block[i])\n",
    "  elif i == 3:\n",
    "    slide_block.append(np.random.uniform(0,1))\n",
    "    test_data.append(a3 * slide_block[i-3] + a2 * slide_block[i-2] + a1 * slide_block[i-1] + slide_block[i])\n",
    "  elif i == 4:\n",
    "    slide_block.append(np.random.uniform(0,1))\n",
    "    test_data.append(a4 * slide_block[i-4] + a3 * slide_block[i-3] + a2 * slide_block[i-2] + a1 * slide_block[i-1] + slide_block[i])\n",
    "  else:\n",
    "    slide_block.append(np.random.uniform(0,1))\n",
    "    test_data.append(a5 * slide_block[i-5] + a4 * slide_block[i-4] + a3 * slide_block[i-3] + a2 * slide_block[i-2] + a1 * slide_block[i-1] + slide_block[i])"
   ]
  },
  {
   "cell_type": "markdown",
   "metadata": {
    "colab_type": "text",
    "id": "hg4gFyoJ8Nkw"
   },
   "source": [
    "## Transform the Data\n",
    "We do this so as to make a set containing 6 sequence of numbers each. This makes sure that at each layer we have 6 RNN Cells (at one time step)  "
   ]
  },
  {
   "cell_type": "code",
   "execution_count": 0,
   "metadata": {
    "colab": {
     "base_uri": "https://localhost:8080/",
     "height": 153
    },
    "colab_type": "code",
    "id": "ljxeQdK22ihH",
    "outputId": "89b1266c-74e4-4a03-b48a-e0f3048e0908"
   },
   "outputs": [
    {
     "name": "stdout",
     "output_type": "stream",
     "text": [
      "torch.Size([1994, 6])\n",
      "torch.Size([1994, 1])\n",
      "tensor([[ 0.6131,  3.7148,  2.8508,  0.1590,  0.4988,  0.1819],\n",
      "        [ 3.7148,  2.8508,  0.1590,  0.4988,  0.1819,  1.2940],\n",
      "        [ 2.8508,  0.1590,  0.4988,  0.1819,  1.2940, -0.9703],\n",
      "        [ 0.1590,  0.4988,  0.1819,  1.2940, -0.9703,  0.5317],\n",
      "        [ 0.4988,  0.1819,  1.2940, -0.9703,  0.5317,  2.4398]])\n",
      "torch.Size([1994, 1])\n"
     ]
    }
   ],
   "source": [
    "def transform_data(arr, seq_len):\n",
    "    x, y = [], []\n",
    "    for i in range(len(arr) - seq_len):\n",
    "        x_i = arr[i : i + seq_len]\n",
    "        y_i = arr[i + seq_len: i + seq_len + 1]\n",
    "        x.append(np.array(x_i))\n",
    "        y.append(np.array(y_i).astype('float64'))\n",
    "    x_arr = np.array(x).reshape(-1, seq_len)\n",
    "    y_arr = np.array(y)\n",
    "    x_var = Variable(torch.from_numpy(x_arr).float())\n",
    "    y_var = Variable(torch.from_numpy(y_arr).float())\n",
    "    return x_var, y_var\n",
    "\n",
    "seq_len = 6\n",
    "train_input, train_target = transform_data(train_data, seq_len)\n",
    "test_input, test_target = transform_data(test_data, seq_len)\n",
    "print(np.shape(train_input))\n",
    "print(np.shape(train_target))\n",
    "print(train_input[:5])\n",
    "print(np.shape(test_target))"
   ]
  },
  {
   "cell_type": "markdown",
   "metadata": {
    "colab_type": "text",
    "id": "moxd8RlW8b2r"
   },
   "source": [
    "## 1 layer RNN network "
   ]
  },
  {
   "cell_type": "code",
   "execution_count": 0,
   "metadata": {
    "colab": {},
    "colab_type": "code",
    "id": "oodfzo8r67GM"
   },
   "outputs": [],
   "source": [
    "class RNN_1layer_Q2(nn.Module):\n",
    "    def __init__(self, input_size=1, output_size=1, num_layers=1):\n",
    "        super().__init__()\n",
    "        # self.hidden_layer_size = hidden_layer_size\n",
    "        self.out_layer_size = output_size\n",
    "        self.rnn = nn.RNN(input_size, output_size, num_layers)\n",
    "\n",
    "        # self.linear = nn.Linear(hidden_layer_size, output_size)\n",
    "\n",
    "        self.hidden_cell = (torch.zeros(num_layers,1,self.out_layer_size))\n",
    "\n",
    "    def forward(self, input_seq):\n",
    "        rnn_out, self.hidden_cell = self.rnn(input_seq.view(len(input_seq), 1, -1), self.hidden_cell)\n",
    "        # predictions = self.linear(lstm_out.view(len(input_seq), -1))\n",
    "        predictions = rnn_out.view(len(input_seq), -1)\n",
    "        return predictions[-1]"
   ]
  },
  {
   "cell_type": "markdown",
   "metadata": {
    "colab_type": "text",
    "id": "LSWPyINRXh-o"
   },
   "source": [
    "\n",
    "We choose 3 things here:\n",
    "- Learning rate: $10^{-6}$\n",
    "- Optmiser: Stochastic Gradient Descent \n",
    "- Loss function: MSE loss\n"
   ]
  },
  {
   "cell_type": "code",
   "execution_count": 0,
   "metadata": {
    "colab": {
     "base_uri": "https://localhost:8080/",
     "height": 68
    },
    "colab_type": "code",
    "id": "uWfZli8g81F4",
    "outputId": "20b561aa-396a-47ec-d4b9-78c51fee765c"
   },
   "outputs": [
    {
     "name": "stdout",
     "output_type": "stream",
     "text": [
      "RNN_1layer_Q2(\n",
      "  (rnn): RNN(1, 1)\n",
      ")\n"
     ]
    }
   ],
   "source": [
    "model = RNN_1layer_Q2()\n",
    "loss_function = nn.MSELoss()\n",
    "optimizer = torch.optim.SGD(model.parameters(), lr=10e-6)\n",
    "print(model)"
   ]
  },
  {
   "cell_type": "markdown",
   "metadata": {
    "colab_type": "text",
    "id": "_0GIqA-6_oee"
   },
   "source": [
    "### 1 Layer RNN Training\n",
    "We plot the epoch vs loss of the model on the training data. "
   ]
  },
  {
   "cell_type": "code",
   "execution_count": 0,
   "metadata": {
    "colab": {
     "base_uri": "https://localhost:8080/",
     "height": 707
    },
    "colab_type": "code",
    "id": "wIDLCTnJ9EDV",
    "outputId": "ec03b1e2-ff11-45a6-946c-ba59f31d1099"
   },
   "outputs": [
    {
     "name": "stdout",
     "output_type": "stream",
     "text": [
      "epoch:   1 loss: 5.06079340\n",
      "epoch:   3 loss: 4.20561981\n",
      "epoch:   5 loss: 3.45713806\n",
      "epoch:   7 loss: 2.85849738\n",
      "epoch:   9 loss: 2.39513516\n",
      "epoch:  11 loss: 2.00501108\n",
      "epoch:  13 loss: 1.73391354\n",
      "epoch:  15 loss: 1.65428352\n",
      "epoch:  17 loss: 1.62343299\n",
      "epoch:  19 loss: 1.60579765\n",
      "epoch:  21 loss: 1.59383357\n",
      "epoch:  23 loss: 1.58495390\n",
      "epoch:  25 loss: 1.57800233\n",
      "epoch:  27 loss: 1.57236338\n",
      "epoch:  29 loss: 1.56767440\n",
      "epoch:  31 loss: 1.56370604\n",
      "epoch:  33 loss: 1.56030130\n",
      "epoch:  35 loss: 1.55735505\n",
      "epoch:  37 loss: 1.55478036\n",
      "epoch:  39 loss: 1.55251908\n",
      "epoch:  41 loss: 1.55052733\n",
      "epoch:  43 loss: 1.54876494\n",
      "epoch:  45 loss: 1.54720557\n",
      "epoch:  47 loss: 1.54582441\n",
      "epoch:  49 loss: 1.54459989\n"
     ]
    },
    {
     "data": {
      "text/plain": [
       "[<matplotlib.lines.Line2D at 0x7f0d546a32b0>]"
      ]
     },
     "execution_count": 6,
     "metadata": {
      "tags": []
     },
     "output_type": "execute_result"
    },
    {
     "data": {
      "image/png": "[encoded data removed]",
      "text/plain": [
       "<Figure size 432x288 with 1 Axes>"
      ]
     },
     "metadata": {
      "needs_background": "light",
      "tags": []
     },
     "output_type": "display_data"
    }
   ],
   "source": [
    "epochs = 50\n",
    "loss_epoch = []\n",
    "index = []\n",
    "for i in range(epochs):\n",
    "    index.append(i)\n",
    "    for seq, labels in itertools.zip_longest(train_input, train_target):\n",
    "        optimizer.zero_grad()\n",
    "        model.hidden_cell = (torch.zeros(1, 1, model.out_layer_size))\n",
    "        # print(np.shape(seq))\n",
    "        y_pred = model(seq)\n",
    "\n",
    "        single_loss = loss_function(y_pred, labels)\n",
    "        single_loss.backward()\n",
    "        optimizer.step()\n",
    "    loss_epoch.append(single_loss.item())\n",
    "    if i%2 == 1:\n",
    "        print(f'epoch: {i:3} loss: {single_loss.item():10.8f}')\n",
    "plt.plot(index, loss_epoch)"
   ]
  },
  {
   "cell_type": "markdown",
   "metadata": {
    "colab_type": "text",
    "id": "tHKY1l0S_wm8"
   },
   "source": [
    "### 1 Layer RNN Model Testing "
   ]
  },
  {
   "cell_type": "code",
   "execution_count": 0,
   "metadata": {
    "colab": {},
    "colab_type": "code",
    "id": "w4_sIqos_PBy"
   },
   "outputs": [],
   "source": [
    "model.eval()\n",
    "test_outputs = []\n",
    "for seq in test_input:\n",
    "  with torch.no_grad():\n",
    "        model.hidden = (torch.zeros(1, 1, model.out_layer_size))\n",
    "        test_outputs.append(model(seq).item())"
   ]
  },
  {
   "cell_type": "markdown",
   "metadata": {
    "colab_type": "text",
    "id": "hBlCtEpuXywW"
   },
   "source": [
    "We mention the MSE, MAE and the R2 scores of the model on the test below."
   ]
  },
  {
   "cell_type": "code",
   "execution_count": 0,
   "metadata": {
    "colab": {
     "base_uri": "https://localhost:8080/",
     "height": 176
    },
    "colab_type": "code",
    "id": "WXwqqM-D_dFg",
    "outputId": "e0e1ed87-d887-4cba-999f-81102da545d5"
   },
   "outputs": [
    {
     "name": "stdout",
     "output_type": "stream",
     "text": [
      "MSE loss 2.438246011734009\n",
      "MAE loss 1.3089390993118286\n",
      "R2 score -0.004733755374010995\n"
     ]
    },
    {
     "name": "stderr",
     "output_type": "stream",
     "text": [
      "/usr/local/lib/python3.6/dist-packages/torch/nn/modules/loss.py:432: UserWarning: Using a target size (torch.Size([1994, 1])) that is different to the input size (torch.Size([1994])). This will likely lead to incorrect results due to broadcasting. Please ensure they have the same size.\n",
      "  return F.mse_loss(input, target, reduction=self.reduction)\n",
      "/usr/local/lib/python3.6/dist-packages/torch/nn/modules/loss.py:88: UserWarning: Using a target size (torch.Size([1994, 1])) that is different to the input size (torch.Size([1994])). This will likely lead to incorrect results due to broadcasting. Please ensure they have the same size.\n",
      "  return F.l1_loss(input, target, reduction=self.reduction)\n"
     ]
    }
   ],
   "source": [
    "test_outputs=np.array(test_outputs)\n",
    "test_outputs=Variable(torch.from_numpy(test_outputs).float())\n",
    "MSE_loss = loss_function(test_outputs, test_target)\n",
    "L1_loss_function = nn.L1Loss()\n",
    "MAE_loss = L1_loss_function(test_outputs, test_target)\n",
    "R2 = r2_score(test_target,test_outputs) \n",
    "print(\"MSE loss\", MSE_loss.item())\n",
    "print(\"MAE loss\", MAE_loss.item())\n",
    "print(\"R2 score\", R2)"
   ]
  },
  {
   "cell_type": "markdown",
   "metadata": {
    "colab_type": "text",
    "id": "nMX9MQh6AI0u"
   },
   "source": [
    "## 2 layer RNN network "
   ]
  },
  {
   "cell_type": "code",
   "execution_count": 0,
   "metadata": {
    "colab": {},
    "colab_type": "code",
    "id": "AjKCclA2ALx8"
   },
   "outputs": [],
   "source": [
    "class RNN_2layer_Q2(nn.Module):\n",
    "    def __init__(self, input_size=1, output_size=1, num_layers=2):\n",
    "        super().__init__()\n",
    "        # self.hidden_layer_size = hidden_layer_size\n",
    "        self.out_layer_size = output_size\n",
    "        self.rnn = nn.RNN(input_size, output_size, num_layers)\n",
    "\n",
    "        # self.linear = nn.Linear(hidden_layer_size, output_size)\n",
    "\n",
    "        self.hidden_cell = (torch.zeros(num_layers,1,self.out_layer_size))\n",
    "\n",
    "    def forward(self, input_seq):\n",
    "        rnn_out, self.hidden_cell = self.rnn(input_seq.view(len(input_seq), 1, -1), self.hidden_cell)\n",
    "        # predictions = self.linear(lstm_out.view(len(input_seq), -1))\n",
    "        predictions = rnn_out.view(len(input_seq), -1)\n",
    "        return predictions[-1]"
   ]
  },
  {
   "cell_type": "markdown",
   "metadata": {
    "colab_type": "text",
    "id": "91F-oo9SYMoy"
   },
   "source": [
    "\n",
    "We choose 3 things here:\n",
    "- Learning rate: $5*10^{-8}$\n",
    "- Optmiser: Stochastic Gradient Descent \n",
    "- Loss function: MSE loss \n"
   ]
  },
  {
   "cell_type": "code",
   "execution_count": 0,
   "metadata": {
    "colab": {
     "base_uri": "https://localhost:8080/",
     "height": 68
    },
    "colab_type": "code",
    "id": "lfTvah54ASS8",
    "outputId": "78bb5f9f-a3e2-413a-f222-4eb79c5289c4"
   },
   "outputs": [
    {
     "name": "stdout",
     "output_type": "stream",
     "text": [
      "RNN_2layer_Q2(\n",
      "  (rnn): RNN(1, 1, num_layers=2)\n",
      ")\n"
     ]
    }
   ],
   "source": [
    "model = RNN_2layer_Q2()\n",
    "loss_function = nn.MSELoss()\n",
    "optimizer = torch.optim.SGD(model.parameters(), lr=5*10e-8)\n",
    "print(model)"
   ]
  },
  {
   "cell_type": "markdown",
   "metadata": {
    "colab_type": "text",
    "id": "8J4SsoUAAgp1"
   },
   "source": [
    "### 2 layer RNN network Training "
   ]
  },
  {
   "cell_type": "markdown",
   "metadata": {
    "colab_type": "text",
    "id": "jHKOIvzsYVG3"
   },
   "source": [
    "We plot epoch vs loss of the model on train data "
   ]
  },
  {
   "cell_type": "code",
   "execution_count": 0,
   "metadata": {
    "colab": {
     "base_uri": "https://localhost:8080/",
     "height": 707
    },
    "colab_type": "code",
    "id": "ROQZPW6VAY7K",
    "outputId": "63f33848-d451-4107-d46a-eebcff3bb7fc"
   },
   "outputs": [
    {
     "name": "stdout",
     "output_type": "stream",
     "text": [
      "epoch:   1 loss: 1.16984010\n",
      "epoch:   3 loss: 1.15793598\n",
      "epoch:   5 loss: 1.14601696\n",
      "epoch:   7 loss: 1.13408494\n",
      "epoch:   9 loss: 1.12214541\n",
      "epoch:  11 loss: 1.11020327\n",
      "epoch:  13 loss: 1.09825873\n",
      "epoch:  15 loss: 1.08631516\n",
      "epoch:  17 loss: 1.07437837\n",
      "epoch:  19 loss: 1.06245148\n",
      "epoch:  21 loss: 1.05053580\n",
      "epoch:  23 loss: 1.03863668\n",
      "epoch:  25 loss: 1.02675939\n",
      "epoch:  27 loss: 1.01490283\n",
      "epoch:  29 loss: 1.00307274\n",
      "epoch:  31 loss: 0.99127227\n",
      "epoch:  33 loss: 0.97950250\n",
      "epoch:  35 loss: 0.96776921\n",
      "epoch:  37 loss: 0.95607466\n",
      "epoch:  39 loss: 0.94442254\n",
      "epoch:  41 loss: 0.93281591\n",
      "epoch:  43 loss: 0.92125589\n",
      "epoch:  45 loss: 0.90974599\n",
      "epoch:  47 loss: 0.89828777\n",
      "epoch:  49 loss: 0.88688588\n"
     ]
    },
    {
     "data": {
      "text/plain": [
       "[<matplotlib.lines.Line2D at 0x7fd5952e9a90>]"
      ]
     },
     "execution_count": 14,
     "metadata": {
      "tags": []
     },
     "output_type": "execute_result"
    },
    {
     "data": {
      "image/png": "[encoded data removed]",
      "text/plain": [
       "<Figure size 432x288 with 1 Axes>"
      ]
     },
     "metadata": {
      "needs_background": "light",
      "tags": []
     },
     "output_type": "display_data"
    }
   ],
   "source": [
    "epochs = 50\n",
    "loss_epoch = []\n",
    "index = []\n",
    "for i in range(epochs):\n",
    "    index.append(i)\n",
    "    for seq, labels in itertools.zip_longest(train_input, train_target):\n",
    "        optimizer.zero_grad()\n",
    "        model.hidden_cell = (torch.zeros(2, 1, model.out_layer_size))\n",
    "        # print(np.shape(seq))\n",
    "        y_pred = model(seq)\n",
    "\n",
    "        single_loss = loss_function(y_pred, labels)\n",
    "        single_loss.backward()\n",
    "        optimizer.step()\n",
    "    loss_epoch.append(single_loss.item())\n",
    "    if i%2 == 1:\n",
    "        print(f'epoch: {i:3} loss: {single_loss.item():10.8f}')\n",
    "plt.plot(index, loss_epoch)"
   ]
  },
  {
   "cell_type": "markdown",
   "metadata": {
    "colab_type": "text",
    "id": "pm095prgYcT1"
   },
   "source": [
    "### Testing the Model "
   ]
  },
  {
   "cell_type": "code",
   "execution_count": 0,
   "metadata": {
    "colab": {},
    "colab_type": "code",
    "id": "yBMWXmWxFiO_"
   },
   "outputs": [],
   "source": [
    "model.eval()\n",
    "test_outputs = []\n",
    "for seq in test_input:\n",
    "  with torch.no_grad():\n",
    "        model.hidden = (torch.zeros(1, 1, model.out_layer_size))\n",
    "        test_outputs.append(model(seq).item())"
   ]
  },
  {
   "cell_type": "markdown",
   "metadata": {
    "colab_type": "text",
    "id": "4RY1r8zDYg0u"
   },
   "source": [
    "MSE, MAE and R2 scores of the model on the testing data are reported below "
   ]
  },
  {
   "cell_type": "code",
   "execution_count": 0,
   "metadata": {
    "colab": {
     "base_uri": "https://localhost:8080/",
     "height": 176
    },
    "colab_type": "code",
    "id": "xOoFtW0JFkci",
    "outputId": "8754b456-373c-4804-9d3b-e2cff9284521"
   },
   "outputs": [
    {
     "name": "stdout",
     "output_type": "stream",
     "text": [
      "MSE loss 4.50956392288208\n",
      "MAE loss 1.7342060804367065\n",
      "R2 score -0.828726858630068\n"
     ]
    },
    {
     "name": "stderr",
     "output_type": "stream",
     "text": [
      "/usr/local/lib/python3.6/dist-packages/torch/nn/modules/loss.py:432: UserWarning: Using a target size (torch.Size([1994, 1])) that is different to the input size (torch.Size([1994])). This will likely lead to incorrect results due to broadcasting. Please ensure they have the same size.\n",
      "  return F.mse_loss(input, target, reduction=self.reduction)\n",
      "/usr/local/lib/python3.6/dist-packages/torch/nn/modules/loss.py:88: UserWarning: Using a target size (torch.Size([1994, 1])) that is different to the input size (torch.Size([1994])). This will likely lead to incorrect results due to broadcasting. Please ensure they have the same size.\n",
      "  return F.l1_loss(input, target, reduction=self.reduction)\n"
     ]
    }
   ],
   "source": [
    "test_outputs=np.array(test_outputs)\n",
    "test_outputs=Variable(torch.from_numpy(test_outputs).float())\n",
    "MSE_loss = loss_function(test_outputs, test_target)\n",
    "L1_loss_function = nn.L1Loss()\n",
    "MAE_loss = L1_loss_function(test_outputs, test_target)\n",
    "R2 = r2_score(test_target,test_outputs) \n",
    "print(\"MSE loss\", MSE_loss.item())\n",
    "print(\"MAE loss\", MAE_loss.item())\n",
    "print(\"R2 score\", R2)"
   ]
  },
  {
   "cell_type": "markdown",
   "metadata": {
    "colab_type": "text",
    "id": "rMd7uX3YLwl-"
   },
   "source": [
    "## 3 Layer RNN Network "
   ]
  },
  {
   "cell_type": "code",
   "execution_count": 0,
   "metadata": {
    "colab": {},
    "colab_type": "code",
    "id": "ZwGJzaxxL0U4"
   },
   "outputs": [],
   "source": [
    "class RNN_3layer_Q2(nn.Module):\n",
    "    def __init__(self, input_size=1, output_size=1, num_layers=3):\n",
    "        super().__init__()\n",
    "        # self.hidden_layer_size = hidden_layer_size\n",
    "        self.out_layer_size = output_size\n",
    "        self.rnn = nn.RNN(input_size, output_size, num_layers)\n",
    "\n",
    "        # self.linear = nn.Linear(hidden_layer_size, output_size)\n",
    "\n",
    "        self.hidden_cell = (torch.zeros(num_layers,1,self.out_layer_size))\n",
    "\n",
    "    def forward(self, input_seq):\n",
    "        rnn_out, self.hidden_cell = self.rnn(input_seq.view(len(input_seq), 1, -1), self.hidden_cell)\n",
    "        # predictions = self.linear(lstm_out.view(len(input_seq), -1))\n",
    "        predictions = rnn_out.view(len(input_seq), -1)\n",
    "        return predictions[-1]"
   ]
  },
  {
   "cell_type": "markdown",
   "metadata": {
    "colab_type": "text",
    "id": "WeHTqMOPYuTX"
   },
   "source": [
    "\n",
    "We choose 3 things here:\n",
    "- Learning rate: $5*10^{-8}$\n",
    "- Optmiser: Stochastic Gradient Descent \n",
    "- Loss function: MSE loss \n"
   ]
  },
  {
   "cell_type": "code",
   "execution_count": 0,
   "metadata": {
    "colab": {
     "base_uri": "https://localhost:8080/",
     "height": 68
    },
    "colab_type": "code",
    "id": "x3a6MrtJL9pY",
    "outputId": "af144459-151f-4d38-f384-b3cdf33ad303"
   },
   "outputs": [
    {
     "name": "stdout",
     "output_type": "stream",
     "text": [
      "RNN_3layer_Q2(\n",
      "  (rnn): RNN(1, 1, num_layers=3)\n",
      ")\n"
     ]
    }
   ],
   "source": [
    "model = RNN_3layer_Q2()\n",
    "loss_function = nn.MSELoss()\n",
    "optimizer = torch.optim.SGD(model.parameters(), lr=5*10e-8)\n",
    "print(model)"
   ]
  },
  {
   "cell_type": "markdown",
   "metadata": {
    "colab_type": "text",
    "id": "z_MCEImxY1dr"
   },
   "source": [
    "### Training the Model \n",
    "We run it for 50 epochs. We plot the epoch vs loss of the model on the training data "
   ]
  },
  {
   "cell_type": "code",
   "execution_count": 0,
   "metadata": {
    "colab": {
     "base_uri": "https://localhost:8080/",
     "height": 707
    },
    "colab_type": "code",
    "id": "EeyvweabMDY7",
    "outputId": "7535a3c6-ab0f-406e-98a5-b259e6cd7fd8"
   },
   "outputs": [
    {
     "name": "stdout",
     "output_type": "stream",
     "text": [
      "epoch:   1 loss: 0.17960979\n",
      "epoch:   3 loss: 0.17582397\n",
      "epoch:   5 loss: 0.17208840\n",
      "epoch:   7 loss: 0.16840407\n",
      "epoch:   9 loss: 0.16477112\n",
      "epoch:  11 loss: 0.16118963\n",
      "epoch:  13 loss: 0.15766247\n",
      "epoch:  15 loss: 0.15418713\n",
      "epoch:  17 loss: 0.15076259\n",
      "epoch:  19 loss: 0.14738831\n",
      "epoch:  21 loss: 0.14406525\n",
      "epoch:  23 loss: 0.14079344\n",
      "epoch:  25 loss: 0.13757378\n",
      "epoch:  27 loss: 0.13440447\n",
      "epoch:  29 loss: 0.13128607\n",
      "epoch:  31 loss: 0.12821686\n",
      "epoch:  33 loss: 0.12519871\n",
      "epoch:  35 loss: 0.12223171\n",
      "epoch:  37 loss: 0.11931436\n",
      "epoch:  39 loss: 0.11644662\n",
      "epoch:  41 loss: 0.11362819\n",
      "epoch:  43 loss: 0.11086078\n",
      "epoch:  45 loss: 0.10814177\n",
      "epoch:  47 loss: 0.10546942\n",
      "epoch:  49 loss: 0.10284472\n"
     ]
    },
    {
     "data": {
      "text/plain": [
       "[<matplotlib.lines.Line2D at 0x7fd595164550>]"
      ]
     },
     "execution_count": 29,
     "metadata": {
      "tags": []
     },
     "output_type": "execute_result"
    },
    {
     "data": {
      "image/png": "[encoded data removed]",
      "text/plain": [
       "<Figure size 432x288 with 1 Axes>"
      ]
     },
     "metadata": {
      "needs_background": "light",
      "tags": []
     },
     "output_type": "display_data"
    }
   ],
   "source": [
    "epochs = 50\n",
    "loss_epoch = []\n",
    "index = []\n",
    "for i in range(epochs):\n",
    "    index.append(i)\n",
    "    for seq, labels in itertools.zip_longest(train_input, train_target):\n",
    "        optimizer.zero_grad()\n",
    "        model.hidden_cell = (torch.zeros(3, 1, model.out_layer_size))\n",
    "        # print(np.shape(seq))\n",
    "        y_pred = model(seq)\n",
    "\n",
    "        single_loss = loss_function(y_pred, labels)\n",
    "        single_loss.backward()\n",
    "        optimizer.step()\n",
    "    loss_epoch.append(single_loss.item())\n",
    "    if i%2 == 1:\n",
    "        print(f'epoch: {i:3} loss: {single_loss.item():10.8f}')\n",
    "plt.plot(index, loss_epoch)"
   ]
  },
  {
   "cell_type": "markdown",
   "metadata": {
    "colab_type": "text",
    "id": "CoayTUcKY_I2"
   },
   "source": [
    "### Testing the Model"
   ]
  },
  {
   "cell_type": "code",
   "execution_count": 0,
   "metadata": {
    "colab": {},
    "colab_type": "code",
    "id": "AkbpcSg4NpYN"
   },
   "outputs": [],
   "source": [
    "model.eval()\n",
    "test_outputs = []\n",
    "for seq in test_input:\n",
    "  with torch.no_grad():\n",
    "        model.hidden = (torch.zeros(3, 1, model.out_layer_size))\n",
    "        test_outputs.append(model(seq).item())"
   ]
  },
  {
   "cell_type": "markdown",
   "metadata": {
    "colab_type": "text",
    "id": "i5MtVAYfZCmK"
   },
   "source": [
    "We report MSE, MAE and R2 scores of the model on the testing data below "
   ]
  },
  {
   "cell_type": "code",
   "execution_count": 0,
   "metadata": {
    "colab": {
     "base_uri": "https://localhost:8080/",
     "height": 156
    },
    "colab_type": "code",
    "id": "sS02Y0HGNsjN",
    "outputId": "88d13d55-beab-46c0-fa25-f0127c1db1c2"
   },
   "outputs": [
    {
     "name": "stdout",
     "output_type": "stream",
     "text": [
      "MSE loss 3.0029566287994385\n",
      "MAE loss 1.4371296167373657\n",
      "R2 score -0.21807303965048153\n"
     ]
    },
    {
     "name": "stderr",
     "output_type": "stream",
     "text": [
      "/usr/local/lib/python3.6/dist-packages/torch/nn/modules/loss.py:432: UserWarning: Using a target size (torch.Size([1994, 1])) that is different to the input size (torch.Size([1994])). This will likely lead to incorrect results due to broadcasting. Please ensure they have the same size.\n",
      "  return F.mse_loss(input, target, reduction=self.reduction)\n",
      "/usr/local/lib/python3.6/dist-packages/torch/nn/modules/loss.py:88: UserWarning: Using a target size (torch.Size([1994, 1])) that is different to the input size (torch.Size([1994])). This will likely lead to incorrect results due to broadcasting. Please ensure they have the same size.\n",
      "  return F.l1_loss(input, target, reduction=self.reduction)\n"
     ]
    }
   ],
   "source": [
    "test_outputs=np.array(test_outputs)\n",
    "test_outputs=Variable(torch.from_numpy(test_outputs).float())\n",
    "MSE_loss = loss_function(test_outputs, test_target)\n",
    "L1_loss_function = nn.L1Loss()\n",
    "MAE_loss = L1_loss_function(test_outputs, test_target)\n",
    "R2 = r2_score(test_target,test_outputs) \n",
    "print(\"MSE loss\", MSE_loss.item())\n",
    "print(\"MAE loss\", MAE_loss.item())\n",
    "print(\"R2 score\", R2)"
   ]
  },
  {
   "cell_type": "markdown",
   "metadata": {},
   "source": [
    "Here, 1 layer RNN performs the best with least MSE and MAE scores on the test data. Probably because the other models overtrain on the training data leading to their bad performance. Nonetheless, all models converge while training. "
   ]
  }
 ],
 "metadata": {
  "accelerator": "GPU",
  "colab": {
   "collapsed_sections": [],
   "machine_shape": "hm",
   "name": "DL  Ass4 Q1 & Q2.ipynb",
   "provenance": []
  },
  "kernelspec": {
   "display_name": "Python 3",
   "language": "python",
   "name": "python3"
  },
  "language_info": {
   "codemirror_mode": {
    "name": "ipython",
    "version": 3
   },
   "file_extension": ".py",
   "mimetype": "text/x-python",
   "name": "python",
   "nbconvert_exporter": "python",
   "pygments_lexer": "ipython3",
   "version": "3.7.7"
  }
 },
 "nbformat": 4,
 "nbformat_minor": 1
}
